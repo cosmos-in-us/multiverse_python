{
 "cells": [
  {
   "cell_type": "code",
   "execution_count": 1,
   "id": "4271cccc",
   "metadata": {
    "ExecuteTime": {
     "end_time": "2025-01-26T13:17:39.312945Z",
     "start_time": "2025-01-26T13:17:39.185562Z"
    }
   },
   "outputs": [],
   "source": [
    "import numpy as np\n",
    "import multiverse_python as mp\n",
    "import matplotlib.pyplot as plt"
   ]
  },
  {
   "cell_type": "code",
   "execution_count": null,
   "id": "f646bce2",
   "metadata": {},
   "outputs": [],
   "source": [
    "mp.snapshot.loadInfo(\"/data2/gilee/\")"
   ]
  },
  {
   "cell_type": "code",
   "execution_count": 2,
   "id": "68c52bc1",
   "metadata": {
    "ExecuteTime": {
     "end_time": "2025-01-26T13:19:53.470518Z",
     "start_time": "2025-01-26T13:19:53.451902Z"
    }
   },
   "outputs": [
    {
     "name": "stdout",
     "output_type": "stream",
     "text": [
      "\n",
      "[Load Time Table]\n",
      "  cosmology: lcdm\n",
      "  (w0, wa) = (-1.0, 0.0)\n",
      "  Found time table: /md/gilee/cosmos-in-us/Multiverse-utils/notebooks/friedmann/time_table_cpl-1.0+0.0.csv\n"
     ]
    },
    {
     "data": {
      "text/html": [
       "<div>\n",
       "<style scoped>\n",
       "    .dataframe tbody tr th:only-of-type {\n",
       "        vertical-align: middle;\n",
       "    }\n",
       "\n",
       "    .dataframe tbody tr th {\n",
       "        vertical-align: top;\n",
       "    }\n",
       "\n",
       "    .dataframe thead th {\n",
       "        text-align: right;\n",
       "    }\n",
       "</style>\n",
       "<table border=\"1\" class=\"dataframe\">\n",
       "  <thead>\n",
       "    <tr style=\"text-align: right;\">\n",
       "      <th></th>\n",
       "      <th>t</th>\n",
       "      <th>tau0</th>\n",
       "      <th>tau1</th>\n",
       "      <th>a</th>\n",
       "    </tr>\n",
       "  </thead>\n",
       "  <tbody>\n",
       "    <tr>\n",
       "      <th>0</th>\n",
       "      <td>1.000000e-08</td>\n",
       "      <td>1.000000e-08</td>\n",
       "      <td>1.000000e-08</td>\n",
       "      <td>1.000000</td>\n",
       "    </tr>\n",
       "    <tr>\n",
       "      <th>1</th>\n",
       "      <td>1.002005e-08</td>\n",
       "      <td>1.002005e-08</td>\n",
       "      <td>1.002005e-08</td>\n",
       "      <td>1.000000</td>\n",
       "    </tr>\n",
       "    <tr>\n",
       "      <th>2</th>\n",
       "      <td>1.004014e-08</td>\n",
       "      <td>1.004014e-08</td>\n",
       "      <td>1.004014e-08</td>\n",
       "      <td>1.000000</td>\n",
       "    </tr>\n",
       "    <tr>\n",
       "      <th>3</th>\n",
       "      <td>1.006028e-08</td>\n",
       "      <td>1.006028e-08</td>\n",
       "      <td>1.006028e-08</td>\n",
       "      <td>1.000000</td>\n",
       "    </tr>\n",
       "    <tr>\n",
       "      <th>4</th>\n",
       "      <td>1.008045e-08</td>\n",
       "      <td>1.008045e-08</td>\n",
       "      <td>1.008045e-08</td>\n",
       "      <td>1.000000</td>\n",
       "    </tr>\n",
       "    <tr>\n",
       "      <th>...</th>\n",
       "      <td>...</td>\n",
       "      <td>...</td>\n",
       "      <td>...</td>\n",
       "      <td>...</td>\n",
       "    </tr>\n",
       "    <tr>\n",
       "      <th>9782</th>\n",
       "      <td>1.002562e+00</td>\n",
       "      <td>3.237304e+00</td>\n",
       "      <td>5.352141e+01</td>\n",
       "      <td>0.004559</td>\n",
       "    </tr>\n",
       "    <tr>\n",
       "      <th>9783</th>\n",
       "      <td>1.002602e+00</td>\n",
       "      <td>3.243795e+00</td>\n",
       "      <td>5.498120e+01</td>\n",
       "      <td>0.004338</td>\n",
       "    </tr>\n",
       "    <tr>\n",
       "      <th>9784</th>\n",
       "      <td>1.002641e+00</td>\n",
       "      <td>3.250300e+00</td>\n",
       "      <td>5.651943e+01</td>\n",
       "      <td>0.004122</td>\n",
       "    </tr>\n",
       "    <tr>\n",
       "      <th>9785</th>\n",
       "      <td>1.002679e+00</td>\n",
       "      <td>3.256818e+00</td>\n",
       "      <td>5.814261e+01</td>\n",
       "      <td>0.003911</td>\n",
       "    </tr>\n",
       "    <tr>\n",
       "      <th>9786</th>\n",
       "      <td>1.002716e+00</td>\n",
       "      <td>3.263348e+00</td>\n",
       "      <td>5.985783e+01</td>\n",
       "      <td>0.003706</td>\n",
       "    </tr>\n",
       "  </tbody>\n",
       "</table>\n",
       "<p>9787 rows × 4 columns</p>\n",
       "</div>"
      ],
      "text/plain": [
       "                 t          tau0          tau1         a\n",
       "0     1.000000e-08  1.000000e-08  1.000000e-08  1.000000\n",
       "1     1.002005e-08  1.002005e-08  1.002005e-08  1.000000\n",
       "2     1.004014e-08  1.004014e-08  1.004014e-08  1.000000\n",
       "3     1.006028e-08  1.006028e-08  1.006028e-08  1.000000\n",
       "4     1.008045e-08  1.008045e-08  1.008045e-08  1.000000\n",
       "...            ...           ...           ...       ...\n",
       "9782  1.002562e+00  3.237304e+00  5.352141e+01  0.004559\n",
       "9783  1.002602e+00  3.243795e+00  5.498120e+01  0.004338\n",
       "9784  1.002641e+00  3.250300e+00  5.651943e+01  0.004122\n",
       "9785  1.002679e+00  3.256818e+00  5.814261e+01  0.003911\n",
       "9786  1.002716e+00  3.263348e+00  5.985783e+01  0.003706\n",
       "\n",
       "[9787 rows x 4 columns]"
      ]
     },
     "execution_count": 2,
     "metadata": {},
     "output_type": "execute_result"
    }
   ],
   "source": [
    "mp.processing.loadTimeTable(\"lcdm\")"
   ]
  },
  {
   "cell_type": "code",
   "execution_count": null,
   "id": "495b877c",
   "metadata": {},
   "outputs": [],
   "source": [
    "plt.figure(fig)"
   ]
  }
 ],
 "metadata": {
  "kernelspec": {
   "display_name": "Python 3 (ipykernel)",
   "language": "python",
   "name": "python3"
  },
  "language_info": {
   "codemirror_mode": {
    "name": "ipython",
    "version": 3
   },
   "file_extension": ".py",
   "mimetype": "text/x-python",
   "name": "python",
   "nbconvert_exporter": "python",
   "pygments_lexer": "ipython3",
   "version": "3.8.8"
  },
  "varInspector": {
   "cols": {
    "lenName": 16,
    "lenType": 16,
    "lenVar": 40
   },
   "kernels_config": {
    "python": {
     "delete_cmd_postfix": "",
     "delete_cmd_prefix": "del ",
     "library": "var_list.py",
     "varRefreshCmd": "print(var_dic_list())"
    },
    "r": {
     "delete_cmd_postfix": ") ",
     "delete_cmd_prefix": "rm(",
     "library": "var_list.r",
     "varRefreshCmd": "cat(var_dic_list()) "
    }
   },
   "types_to_exclude": [
    "module",
    "function",
    "builtin_function_or_method",
    "instance",
    "_Feature"
   ],
   "window_display": false
  }
 },
 "nbformat": 4,
 "nbformat_minor": 5
}
