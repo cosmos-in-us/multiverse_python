{
 "cells": [
  {
   "cell_type": "code",
   "execution_count": 1,
   "id": "cb86d59c",
   "metadata": {
    "ExecuteTime": {
     "end_time": "2025-01-24T12:36:23.348993Z",
     "start_time": "2025-01-24T12:36:23.344631Z"
    }
   },
   "outputs": [],
   "source": [
    "import snapshot"
   ]
  },
  {
   "cell_type": "code",
   "execution_count": 2,
   "id": "3ff0a55f",
   "metadata": {
    "ExecuteTime": {
     "end_time": "2025-01-24T12:36:23.564708Z",
     "start_time": "2025-01-24T12:36:23.562892Z"
    }
   },
   "outputs": [],
   "source": [
    "cosmology = \"lcdm\"\n",
    "snapNum = 150"
   ]
  },
  {
   "cell_type": "code",
   "execution_count": 3,
   "id": "5ee56b60",
   "metadata": {
    "ExecuteTime": {
     "end_time": "2025-01-24T12:36:23.828158Z",
     "start_time": "2025-01-24T12:36:23.826188Z"
    }
   },
   "outputs": [],
   "source": [
    "basePath = f\"/data2/gilee/Multiverse/test-run/lmin08/{cosmology.upper()}\""
   ]
  },
  {
   "cell_type": "code",
   "execution_count": 4,
   "id": "e0b686c8",
   "metadata": {
    "ExecuteTime": {
     "end_time": "2025-01-24T12:36:36.363847Z",
     "start_time": "2025-01-24T12:36:24.062528Z"
    }
   },
   "outputs": [
    {
     "name": "stdout",
     "output_type": "stream",
     "text": [
      "\n",
      "[Load Data]\n",
      "\n",
      "[Load Info]\n",
      "  Found info: /data2/gilee/Multiverse/test-run/lmin08/LCDM/output_00150/info_00150.txt\n",
      "  keys in info: dict_keys(['ncpu', 'ndim', 'levelmin', 'levelmax', 'ngridmax', 'nstep_coarse', 'boxlen', 'time', 'aexp', 'H0', 'omega_m', 'omega_l', 'omega_k', 'omega_b', 'unit_l', 'unit_d', 'unit_t', 'ordering type'])\n",
      "  Found data: /data2/gilee/Multiverse/test-run/lmin08/LCDM/output_00150/part_00150.out00001\n",
      "  Found data: /data2/gilee/Multiverse/test-run/lmin08/LCDM/output_00150/part_00150.out00002\n",
      "  Found data: /data2/gilee/Multiverse/test-run/lmin08/LCDM/output_00150/part_00150.out00003\n",
      "  Found data: /data2/gilee/Multiverse/test-run/lmin08/LCDM/output_00150/part_00150.out00004\n",
      "  Found data: /data2/gilee/Multiverse/test-run/lmin08/LCDM/output_00150/part_00150.out00005\n",
      "  Found data: /data2/gilee/Multiverse/test-run/lmin08/LCDM/output_00150/part_00150.out00006\n",
      "  Found data: /data2/gilee/Multiverse/test-run/lmin08/LCDM/output_00150/part_00150.out00007\n",
      "  Found data: /data2/gilee/Multiverse/test-run/lmin08/LCDM/output_00150/part_00150.out00008\n",
      "  Found data: /data2/gilee/Multiverse/test-run/lmin08/LCDM/output_00150/part_00150.out00009\n",
      "  Found data: /data2/gilee/Multiverse/test-run/lmin08/LCDM/output_00150/part_00150.out00010\n",
      "  Found data: /data2/gilee/Multiverse/test-run/lmin08/LCDM/output_00150/part_00150.out00011\n",
      "  Found data: /data2/gilee/Multiverse/test-run/lmin08/LCDM/output_00150/part_00150.out00012\n",
      "  Found data: /data2/gilee/Multiverse/test-run/lmin08/LCDM/output_00150/part_00150.out00013\n",
      "  Found data: /data2/gilee/Multiverse/test-run/lmin08/LCDM/output_00150/part_00150.out00014\n",
      "  Found data: /data2/gilee/Multiverse/test-run/lmin08/LCDM/output_00150/part_00150.out00015\n",
      "  Found data: /data2/gilee/Multiverse/test-run/lmin08/LCDM/output_00150/part_00150.out00016\n",
      "  Found data: /data2/gilee/Multiverse/test-run/lmin08/LCDM/output_00150/part_00150.out00017\n",
      "  Found data: /data2/gilee/Multiverse/test-run/lmin08/LCDM/output_00150/part_00150.out00018\n",
      "  Found data: /data2/gilee/Multiverse/test-run/lmin08/LCDM/output_00150/part_00150.out00019\n",
      "  Found data: /data2/gilee/Multiverse/test-run/lmin08/LCDM/output_00150/part_00150.out00020\n",
      "  Found data: /data2/gilee/Multiverse/test-run/lmin08/LCDM/output_00150/part_00150.out00021\n",
      "  Found data: /data2/gilee/Multiverse/test-run/lmin08/LCDM/output_00150/part_00150.out00022\n",
      "  Found data: /data2/gilee/Multiverse/test-run/lmin08/LCDM/output_00150/part_00150.out00023\n",
      "  Found data: /data2/gilee/Multiverse/test-run/lmin08/LCDM/output_00150/part_00150.out00024\n",
      "  Found data: /data2/gilee/Multiverse/test-run/lmin08/LCDM/output_00150/part_00150.out00025\n",
      "  Found data: /data2/gilee/Multiverse/test-run/lmin08/LCDM/output_00150/part_00150.out00026\n",
      "  Found data: /data2/gilee/Multiverse/test-run/lmin08/LCDM/output_00150/part_00150.out00027\n",
      "  Found data: /data2/gilee/Multiverse/test-run/lmin08/LCDM/output_00150/part_00150.out00028\n",
      "  Found data: /data2/gilee/Multiverse/test-run/lmin08/LCDM/output_00150/part_00150.out00029\n",
      "  Found data: /data2/gilee/Multiverse/test-run/lmin08/LCDM/output_00150/part_00150.out00030\n",
      "  Found data: /data2/gilee/Multiverse/test-run/lmin08/LCDM/output_00150/part_00150.out00031\n",
      "  Found data: /data2/gilee/Multiverse/test-run/lmin08/LCDM/output_00150/part_00150.out00032\n",
      "  Total particle number = 23,455,512\n",
      "  Found data: /data2/gilee/Multiverse/test-run/lmin08/LCDM/output_00150/part_00150.out00001\n",
      "  Found data: /data2/gilee/Multiverse/test-run/lmin08/LCDM/output_00150/part_00150.out00002\n",
      "  Found data: /data2/gilee/Multiverse/test-run/lmin08/LCDM/output_00150/part_00150.out00003\n",
      "  Found data: /data2/gilee/Multiverse/test-run/lmin08/LCDM/output_00150/part_00150.out00004\n",
      "  Found data: /data2/gilee/Multiverse/test-run/lmin08/LCDM/output_00150/part_00150.out00005\n",
      "  Found data: /data2/gilee/Multiverse/test-run/lmin08/LCDM/output_00150/part_00150.out00006\n",
      "  Found data: /data2/gilee/Multiverse/test-run/lmin08/LCDM/output_00150/part_00150.out00007\n",
      "  Found data: /data2/gilee/Multiverse/test-run/lmin08/LCDM/output_00150/part_00150.out00008\n",
      "  Found data: /data2/gilee/Multiverse/test-run/lmin08/LCDM/output_00150/part_00150.out00009\n",
      "  Found data: /data2/gilee/Multiverse/test-run/lmin08/LCDM/output_00150/part_00150.out00010\n",
      "  Found data: /data2/gilee/Multiverse/test-run/lmin08/LCDM/output_00150/part_00150.out00011\n",
      "  Found data: /data2/gilee/Multiverse/test-run/lmin08/LCDM/output_00150/part_00150.out00012\n",
      "  Found data: /data2/gilee/Multiverse/test-run/lmin08/LCDM/output_00150/part_00150.out00013\n",
      "  Found data: /data2/gilee/Multiverse/test-run/lmin08/LCDM/output_00150/part_00150.out00014\n",
      "  Found data: /data2/gilee/Multiverse/test-run/lmin08/LCDM/output_00150/part_00150.out00015\n",
      "  Found data: /data2/gilee/Multiverse/test-run/lmin08/LCDM/output_00150/part_00150.out00016\n",
      "  Found data: /data2/gilee/Multiverse/test-run/lmin08/LCDM/output_00150/part_00150.out00017\n",
      "  Found data: /data2/gilee/Multiverse/test-run/lmin08/LCDM/output_00150/part_00150.out00018\n",
      "  Found data: /data2/gilee/Multiverse/test-run/lmin08/LCDM/output_00150/part_00150.out00019\n",
      "  Found data: /data2/gilee/Multiverse/test-run/lmin08/LCDM/output_00150/part_00150.out00020\n",
      "  Found data: /data2/gilee/Multiverse/test-run/lmin08/LCDM/output_00150/part_00150.out00021\n",
      "  Found data: /data2/gilee/Multiverse/test-run/lmin08/LCDM/output_00150/part_00150.out00022\n",
      "  Found data: /data2/gilee/Multiverse/test-run/lmin08/LCDM/output_00150/part_00150.out00023\n",
      "  Found data: /data2/gilee/Multiverse/test-run/lmin08/LCDM/output_00150/part_00150.out00024\n",
      "  Found data: /data2/gilee/Multiverse/test-run/lmin08/LCDM/output_00150/part_00150.out00025\n",
      "  Found data: /data2/gilee/Multiverse/test-run/lmin08/LCDM/output_00150/part_00150.out00026\n",
      "  Found data: /data2/gilee/Multiverse/test-run/lmin08/LCDM/output_00150/part_00150.out00027\n",
      "  Found data: /data2/gilee/Multiverse/test-run/lmin08/LCDM/output_00150/part_00150.out00028\n",
      "  Found data: /data2/gilee/Multiverse/test-run/lmin08/LCDM/output_00150/part_00150.out00029\n",
      "  Found data: /data2/gilee/Multiverse/test-run/lmin08/LCDM/output_00150/part_00150.out00030\n",
      "  Found data: /data2/gilee/Multiverse/test-run/lmin08/LCDM/output_00150/part_00150.out00031\n",
      "  Found data: /data2/gilee/Multiverse/test-run/lmin08/LCDM/output_00150/part_00150.out00032\n",
      "  Star particle number = 5,752,068\n",
      "  DM particle number = 16,777,216\n",
      "  BH particle number = 926,228\n",
      "  Total particle number = 23,455,512 (check)\n"
     ]
    }
   ],
   "source": [
    "data = snapshot.loadDataAll(cosmology, basePath, snapNum)"
   ]
  },
  {
   "cell_type": "code",
   "execution_count": null,
   "id": "459789b1",
   "metadata": {},
   "outputs": [],
   "source": []
  }
 ],
 "metadata": {
  "kernelspec": {
   "display_name": "Python 3 (ipykernel)",
   "language": "python",
   "name": "python3"
  },
  "language_info": {
   "codemirror_mode": {
    "name": "ipython",
    "version": 3
   },
   "file_extension": ".py",
   "mimetype": "text/x-python",
   "name": "python",
   "nbconvert_exporter": "python",
   "pygments_lexer": "ipython3",
   "version": "3.8.8"
  },
  "varInspector": {
   "cols": {
    "lenName": 16,
    "lenType": 16,
    "lenVar": 40
   },
   "kernels_config": {
    "python": {
     "delete_cmd_postfix": "",
     "delete_cmd_prefix": "del ",
     "library": "var_list.py",
     "varRefreshCmd": "print(var_dic_list())"
    },
    "r": {
     "delete_cmd_postfix": ") ",
     "delete_cmd_prefix": "rm(",
     "library": "var_list.r",
     "varRefreshCmd": "cat(var_dic_list()) "
    }
   },
   "types_to_exclude": [
    "module",
    "function",
    "builtin_function_or_method",
    "instance",
    "_Feature"
   ],
   "window_display": false
  }
 },
 "nbformat": 4,
 "nbformat_minor": 5
}
