{
 "cells": [
  {
   "cell_type": "code",
   "execution_count": 1,
   "id": "cb86d59c",
   "metadata": {
    "ExecuteTime": {
     "end_time": "2025-01-24T12:36:23.348993Z",
     "start_time": "2025-01-24T12:36:23.344631Z"
    }
   },
   "outputs": [],
   "source": [
    "import snapshot"
   ]
  },
  {
   "cell_type": "code",
   "execution_count": 2,
   "id": "3ff0a55f",
   "metadata": {
    "ExecuteTime": {
     "end_time": "2025-01-24T12:36:23.564708Z",
     "start_time": "2025-01-24T12:36:23.562892Z"
    }
   },
   "outputs": [],
   "source": [
    "cosmology = \"lcdm\"\n",
    "snapNum = 150"
   ]
  },
  {
   "cell_type": "code",
   "execution_count": 3,
   "id": "5ee56b60",
   "metadata": {
    "ExecuteTime": {
     "end_time": "2025-01-24T12:36:23.828158Z",
     "start_time": "2025-01-24T12:36:23.826188Z"
    }
   },
   "outputs": [],
   "source": [
    "basePath = f\"/data2/gilee/Multiverse/test-run/lmin08/{cosmology.upper()}\""
   ]
  },
  {
   "cell_type": "code",
   "execution_count": 4,
   "id": "e0b686c8",
   "metadata": {
    "ExecuteTime": {
     "end_time": "2025-01-24T12:36:36.363847Z",
     "start_time": "2025-01-24T12:36:24.062528Z"
    }
   },
   "outputs": [
    {
     "name": "stdout",
     "output_type": "stream",
     "text": [
      "\n",
      "[Load Data]\n",
      "\n",
      "[Load Info]\n",
      "  Found info: /data2/gilee/Multiverse/test-run/lmin08/LCDM/output_00150/info_00150.txt\n",
      "  keys in info: dict_keys(['ncpu', 'ndim', 'levelmin', 'levelmax', 'ngridmax', 'nstep_coarse', 'boxlen', 'time', 'aexp', 'H0', 'omega_m', 'omega_l', 'omega_k', 'omega_b', 'unit_l', 'unit_d', 'unit_t', 'ordering type'])\n",
      "  Found data: /data2/gilee/Multiverse/test-run/lmin08/LCDM/output_00150/part_00150.out00001\n",
      "  Found data: /data2/gilee/Multiverse/test-run/lmin08/LCDM/output_00150/part_00150.out00002\n",
      "  Found data: /data2/gilee/Multiverse/test-run/lmin08/LCDM/output_00150/part_00150.out00003\n",
      "  Found data: /data2/gilee/Multiverse/test-run/lmin08/LCDM/output_00150/part_00150.out00004\n",
      "  Found data: /data2/gilee/Multiverse/test-run/lmin08/LCDM/output_00150/part_00150.out00005\n",
      "  Found data: /data2/gilee/Multiverse/test-run/lmin08/LCDM/output_00150/part_00150.out00006\n",
      "  Found data: /data2/gilee/Multiverse/test-run/lmin08/LCDM/output_00150/part_00150.out00007\n",
      "  Found data: /data2/gilee/Multiverse/test-run/lmin08/LCDM/output_00150/part_00150.out00008\n",
      "  Found data: /data2/gilee/Multiverse/test-run/lmin08/LCDM/output_00150/part_00150.out00009\n",
      "  Found data: /data2/gilee/Multiverse/test-run/lmin08/LCDM/output_00150/part_00150.out00010\n",
      "  Found data: /data2/gilee/Multiverse/test-run/lmin08/LCDM/output_00150/part_00150.out00011\n",
      "  Found data: /data2/gilee/Multiverse/test-run/lmin08/LCDM/output_00150/part_00150.out00012\n",
      "  Found data: /data2/gilee/Multiverse/test-run/lmin08/LCDM/output_00150/part_00150.out00013\n",
      "  Found data: /data2/gilee/Multiverse/test-run/lmin08/LCDM/output_00150/part_00150.out00014\n",
      "  Found data: /data2/gilee/Multiverse/test-run/lmin08/LCDM/output_00150/part_00150.out00015\n",
      "  Found data: /data2/gilee/Multiverse/test-run/lmin08/LCDM/output_00150/part_00150.out00016\n",
      "  Found data: /data2/gilee/Multiverse/test-run/lmin08/LCDM/output_00150/part_00150.out00017\n",
      "  Found data: /data2/gilee/Multiverse/test-run/lmin08/LCDM/output_00150/part_00150.out00018\n",
      "  Found data: /data2/gilee/Multiverse/test-run/lmin08/LCDM/output_00150/part_00150.out00019\n",
      "  Found data: /data2/gilee/Multiverse/test-run/lmin08/LCDM/output_00150/part_00150.out00020\n",
      "  Found data: /data2/gilee/Multiverse/test-run/lmin08/LCDM/output_00150/part_00150.out00021\n",
      "  Found data: /data2/gilee/Multiverse/test-run/lmin08/LCDM/output_00150/part_00150.out00022\n",
      "  Found data: /data2/gilee/Multiverse/test-run/lmin08/LCDM/output_00150/part_00150.out00023\n",
      "  Found data: /data2/gilee/Multiverse/test-run/lmin08/LCDM/output_00150/part_00150.out00024\n",
      "  Found data: /data2/gilee/Multiverse/test-run/lmin08/LCDM/output_00150/part_00150.out00025\n",
      "  Found data: /data2/gilee/Multiverse/test-run/lmin08/LCDM/output_00150/part_00150.out00026\n",
      "  Found data: /data2/gilee/Multiverse/test-run/lmin08/LCDM/output_00150/part_00150.out00027\n",
      "  Found data: /data2/gilee/Multiverse/test-run/lmin08/LCDM/output_00150/part_00150.out00028\n",
      "  Found data: /data2/gilee/Multiverse/test-run/lmin08/LCDM/output_00150/part_00150.out00029\n",
      "  Found data: /data2/gilee/Multiverse/test-run/lmin08/LCDM/output_00150/part_00150.out00030\n",
      "  Found data: /data2/gilee/Multiverse/test-run/lmin08/LCDM/output_00150/part_00150.out00031\n",
      "  Found data: /data2/gilee/Multiverse/test-run/lmin08/LCDM/output_00150/part_00150.out00032\n",
      "  Total particle number = 23,455,512\n",
      "  Found data: /data2/gilee/Multiverse/test-run/lmin08/LCDM/output_00150/part_00150.out00001\n",
      "  Found data: /data2/gilee/Multiverse/test-run/lmin08/LCDM/output_00150/part_00150.out00002\n",
      "  Found data: /data2/gilee/Multiverse/test-run/lmin08/LCDM/output_00150/part_00150.out00003\n",
      "  Found data: /data2/gilee/Multiverse/test-run/lmin08/LCDM/output_00150/part_00150.out00004\n",
      "  Found data: /data2/gilee/Multiverse/test-run/lmin08/LCDM/output_00150/part_00150.out00005\n",
      "  Found data: /data2/gilee/Multiverse/test-run/lmin08/LCDM/output_00150/part_00150.out00006\n",
      "  Found data: /data2/gilee/Multiverse/test-run/lmin08/LCDM/output_00150/part_00150.out00007\n",
      "  Found data: /data2/gilee/Multiverse/test-run/lmin08/LCDM/output_00150/part_00150.out00008\n",
      "  Found data: /data2/gilee/Multiverse/test-run/lmin08/LCDM/output_00150/part_00150.out00009\n",
      "  Found data: /data2/gilee/Multiverse/test-run/lmin08/LCDM/output_00150/part_00150.out00010\n",
      "  Found data: /data2/gilee/Multiverse/test-run/lmin08/LCDM/output_00150/part_00150.out00011\n",
      "  Found data: /data2/gilee/Multiverse/test-run/lmin08/LCDM/output_00150/part_00150.out00012\n",
      "  Found data: /data2/gilee/Multiverse/test-run/lmin08/LCDM/output_00150/part_00150.out00013\n",
      "  Found data: /data2/gilee/Multiverse/test-run/lmin08/LCDM/output_00150/part_00150.out00014\n",
      "  Found data: /data2/gilee/Multiverse/test-run/lmin08/LCDM/output_00150/part_00150.out00015\n",
      "  Found data: /data2/gilee/Multiverse/test-run/lmin08/LCDM/output_00150/part_00150.out00016\n",
      "  Found data: /data2/gilee/Multiverse/test-run/lmin08/LCDM/output_00150/part_00150.out00017\n",
      "  Found data: /data2/gilee/Multiverse/test-run/lmin08/LCDM/output_00150/part_00150.out00018\n",
      "  Found data: /data2/gilee/Multiverse/test-run/lmin08/LCDM/output_00150/part_00150.out00019\n",
      "  Found data: /data2/gilee/Multiverse/test-run/lmin08/LCDM/output_00150/part_00150.out00020\n",
      "  Found data: /data2/gilee/Multiverse/test-run/lmin08/LCDM/output_00150/part_00150.out00021\n",
      "  Found data: /data2/gilee/Multiverse/test-run/lmin08/LCDM/output_00150/part_00150.out00022\n",
      "  Found data: /data2/gilee/Multiverse/test-run/lmin08/LCDM/output_00150/part_00150.out00023\n",
      "  Found data: /data2/gilee/Multiverse/test-run/lmin08/LCDM/output_00150/part_00150.out00024\n",
      "  Found data: /data2/gilee/Multiverse/test-run/lmin08/LCDM/output_00150/part_00150.out00025\n",
      "  Found data: /data2/gilee/Multiverse/test-run/lmin08/LCDM/output_00150/part_00150.out00026\n",
      "  Found data: /data2/gilee/Multiverse/test-run/lmin08/LCDM/output_00150/part_00150.out00027\n",
      "  Found data: /data2/gilee/Multiverse/test-run/lmin08/LCDM/output_00150/part_00150.out00028\n",
      "  Found data: /data2/gilee/Multiverse/test-run/lmin08/LCDM/output_00150/part_00150.out00029\n",
      "  Found data: /data2/gilee/Multiverse/test-run/lmin08/LCDM/output_00150/part_00150.out00030\n",
      "  Found data: /data2/gilee/Multiverse/test-run/lmin08/LCDM/output_00150/part_00150.out00031\n",
      "  Found data: /data2/gilee/Multiverse/test-run/lmin08/LCDM/output_00150/part_00150.out00032\n",
      "  Star particle number = 5,752,068\n",
      "  DM particle number = 16,777,216\n",
      "  BH particle number = 926,228\n",
      "  Total particle number = 23,455,512 (check)\n"
     ]
    }
   ],
   "source": [
    "data = snapshot.loadDataAll(cosmology, basePath, snapNum)"
   ]
  },
  {
   "cell_type": "code",
   "execution_count": 5,
   "id": "459789b1",
   "metadata": {
    "ExecuteTime": {
     "end_time": "2025-01-24T12:42:21.587771Z",
     "start_time": "2025-01-24T12:42:21.581236Z"
    }
   },
   "outputs": [
    {
     "data": {
      "text/plain": [
       "{'header': {'ncpu': 32,\n",
       "  'ndim': 3,\n",
       "  'levelmin': 8,\n",
       "  'levelmax': 15,\n",
       "  'ngridmax': 6250000,\n",
       "  'nstep_coarse': 6005,\n",
       "  'boxlen': 1.0,\n",
       "  'time': 4.90664710546357e-05,\n",
       "  'aexp': 1.00004872819086,\n",
       "  'H0': 72.0,\n",
       "  'omega_m': 0.259999990463257,\n",
       "  'omega_l': 0.740000009536743,\n",
       "  'omega_k': 0.0,\n",
       "  'omega_b': 0.0469999983906746,\n",
       "  'unit_l': 1.00930362708038e+26,\n",
       "  'unit_d': 2.5335687203475e-30,\n",
       "  'unit_t': 4.285728333333333e+17,\n",
       "  'ordering type': 'hilbert',\n",
       "  'unit_m': 2.604942794244024e+48,\n",
       "  'cosmology': 'lcdm',\n",
       "  'snapNum': 150},\n",
       " 'npart': array([ 640842,  739638,  870298, 1016491,  743617,  726358,  707715,\n",
       "         782139,  712382,  750235,  708191,  655593,  717986,  615842,\n",
       "         843032,  832250,  823424,  564261,  754858,  623624,  658515,\n",
       "         940682,  736328,  617839,  753914,  844705,  709530,  626919,\n",
       "         700634,  701831,  599626,  736213]),\n",
       " 'ids': array([       7,       10,       12, ..., 14763985, 14758677,  3083371]),\n",
       " 'positions': array([[0.16415288, 0.1660025 , 0.01312087],\n",
       "        [0.08469473, 0.19622454, 0.13764353],\n",
       "        [0.07759675, 0.20605532, 0.14631358],\n",
       "        ...,\n",
       "        [0.93246637, 0.10754659, 0.24882099],\n",
       "        [0.93594995, 0.09945711, 0.24656486],\n",
       "        [0.79898794, 0.12462674, 0.00369105]]),\n",
       " 'velocities': array([[ 0.00742726,  0.04836157,  0.01942992],\n",
       "        [-0.00219765, -0.04601939, -0.02121188],\n",
       "        [ 0.04129582, -0.01811667,  0.06909276],\n",
       "        ...,\n",
       "        [ 0.14550812,  0.07166416, -0.00917474],\n",
       "        [ 0.1134321 ,  0.08913279, -0.09841517],\n",
       "        [ 0.07737024, -0.0132653 , -0.08369599]]),\n",
       " 'levels': array([12, 11, 10, ..., 13, 12, 15], dtype=int32),\n",
       " 'masses': array([4.8829959e-08, 4.8829959e-08, 4.8829959e-08, ..., 4.8829959e-08,\n",
       "        4.8829959e-08, 1.1664569e-09]),\n",
       " 'masses0': array([0.00000000e+00, 0.00000000e+00, 0.00000000e+00, ...,\n",
       "        0.00000000e+00, 0.00000000e+00, 2.15493716e-09]),\n",
       " 'tp_birth': array([ 0.       ,  0.       ,  0.       , ...,  0.       ,  0.       ,\n",
       "        -0.6593352]),\n",
       " 'tc_birth': array([ 0.        ,  0.        ,  0.        , ...,  0.        ,\n",
       "         0.        , -1.60323349]),\n",
       " 'phi': array([-0.01938633, -0.01546858, -0.01278746, ..., -0.02657835,\n",
       "        -0.0233953 , -0.01482038]),\n",
       " 'metal': array([0.      , 0.      , 0.      , ..., 0.      , 0.      , 0.005759]),\n",
       " 'indtab': array([0.        , 0.        , 0.        , ..., 0.        , 0.        ,\n",
       "        0.64047611]),\n",
       " 'ptype': array([1, 1, 1, ..., 1, 1, 4], dtype=int8)}"
      ]
     },
     "execution_count": 5,
     "metadata": {},
     "output_type": "execute_result"
    }
   ],
   "source": [
    "data"
   ]
  },
  {
   "cell_type": "code",
   "execution_count": null,
   "id": "80179755",
   "metadata": {},
   "outputs": [],
   "source": []
  }
 ],
 "metadata": {
  "kernelspec": {
   "display_name": "Python 3 (ipykernel)",
   "language": "python",
   "name": "python3"
  },
  "language_info": {
   "codemirror_mode": {
    "name": "ipython",
    "version": 3
   },
   "file_extension": ".py",
   "mimetype": "text/x-python",
   "name": "python",
   "nbconvert_exporter": "python",
   "pygments_lexer": "ipython3",
   "version": "3.8.8"
  },
  "varInspector": {
   "cols": {
    "lenName": 16,
    "lenType": 16,
    "lenVar": 40
   },
   "kernels_config": {
    "python": {
     "delete_cmd_postfix": "",
     "delete_cmd_prefix": "del ",
     "library": "var_list.py",
     "varRefreshCmd": "print(var_dic_list())"
    },
    "r": {
     "delete_cmd_postfix": ") ",
     "delete_cmd_prefix": "rm(",
     "library": "var_list.r",
     "varRefreshCmd": "cat(var_dic_list()) "
    }
   },
   "types_to_exclude": [
    "module",
    "function",
    "builtin_function_or_method",
    "instance",
    "_Feature"
   ],
   "window_display": false
  }
 },
 "nbformat": 4,
 "nbformat_minor": 5
}
